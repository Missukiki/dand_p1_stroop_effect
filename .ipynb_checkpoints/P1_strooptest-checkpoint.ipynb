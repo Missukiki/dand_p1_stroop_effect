{
 "cells": [
  {
   "cell_type": "markdown",
   "metadata": {
    "deletable": true,
    "editable": true
   },
   "source": [
    "# Stroop Test\n",
    "# 统计学：决策的科学项目说明\n",
    "-----------\n",
    "**在一个 Stroop （斯特鲁普）任务中，参与者得到了一列文字，每个文字都用一种油墨颜色展示。参与者的任务是将文字的打印颜色大声说出来。这项任务有两个条件：一致文字条件，和不一致文字条件。在一致文字条件中，显示的文字是与它们的打印颜色匹配的颜色词；在不一致文字条件中，显示的文字是与它们的打印颜色不匹配的颜色词。在每个情况中，我们将计量说出同等大小的列表中的墨色名称的时间。每位参与者必须全部完成并记录每种条件下使用的时间。**"
   ]
  },
  {
   "cell_type": "code",
   "execution_count": 2,
   "metadata": {
    "collapsed": false,
    "deletable": true,
    "editable": true
   },
   "outputs": [
    {
     "data": {
      "text/html": [
       "<div>\n",
       "<table border=\"1\" class=\"dataframe\">\n",
       "  <thead>\n",
       "    <tr style=\"text-align: right;\">\n",
       "      <th></th>\n",
       "      <th>Congruent</th>\n",
       "      <th>Incongruent</th>\n",
       "    </tr>\n",
       "  </thead>\n",
       "  <tbody>\n",
       "    <tr>\n",
       "      <th>0</th>\n",
       "      <td>12.079</td>\n",
       "      <td>19.278</td>\n",
       "    </tr>\n",
       "    <tr>\n",
       "      <th>1</th>\n",
       "      <td>16.791</td>\n",
       "      <td>18.741</td>\n",
       "    </tr>\n",
       "    <tr>\n",
       "      <th>2</th>\n",
       "      <td>9.564</td>\n",
       "      <td>21.214</td>\n",
       "    </tr>\n",
       "    <tr>\n",
       "      <th>3</th>\n",
       "      <td>8.630</td>\n",
       "      <td>15.687</td>\n",
       "    </tr>\n",
       "    <tr>\n",
       "      <th>4</th>\n",
       "      <td>14.669</td>\n",
       "      <td>22.803</td>\n",
       "    </tr>\n",
       "    <tr>\n",
       "      <th>5</th>\n",
       "      <td>12.238</td>\n",
       "      <td>20.878</td>\n",
       "    </tr>\n",
       "    <tr>\n",
       "      <th>6</th>\n",
       "      <td>14.692</td>\n",
       "      <td>24.572</td>\n",
       "    </tr>\n",
       "    <tr>\n",
       "      <th>7</th>\n",
       "      <td>8.987</td>\n",
       "      <td>17.394</td>\n",
       "    </tr>\n",
       "    <tr>\n",
       "      <th>8</th>\n",
       "      <td>9.401</td>\n",
       "      <td>20.762</td>\n",
       "    </tr>\n",
       "    <tr>\n",
       "      <th>9</th>\n",
       "      <td>14.480</td>\n",
       "      <td>26.282</td>\n",
       "    </tr>\n",
       "    <tr>\n",
       "      <th>10</th>\n",
       "      <td>22.328</td>\n",
       "      <td>24.524</td>\n",
       "    </tr>\n",
       "    <tr>\n",
       "      <th>11</th>\n",
       "      <td>15.298</td>\n",
       "      <td>18.644</td>\n",
       "    </tr>\n",
       "    <tr>\n",
       "      <th>12</th>\n",
       "      <td>15.073</td>\n",
       "      <td>17.510</td>\n",
       "    </tr>\n",
       "    <tr>\n",
       "      <th>13</th>\n",
       "      <td>16.929</td>\n",
       "      <td>20.330</td>\n",
       "    </tr>\n",
       "    <tr>\n",
       "      <th>14</th>\n",
       "      <td>18.200</td>\n",
       "      <td>35.255</td>\n",
       "    </tr>\n",
       "    <tr>\n",
       "      <th>15</th>\n",
       "      <td>12.130</td>\n",
       "      <td>22.158</td>\n",
       "    </tr>\n",
       "    <tr>\n",
       "      <th>16</th>\n",
       "      <td>18.495</td>\n",
       "      <td>25.139</td>\n",
       "    </tr>\n",
       "    <tr>\n",
       "      <th>17</th>\n",
       "      <td>10.639</td>\n",
       "      <td>20.429</td>\n",
       "    </tr>\n",
       "    <tr>\n",
       "      <th>18</th>\n",
       "      <td>11.344</td>\n",
       "      <td>17.425</td>\n",
       "    </tr>\n",
       "    <tr>\n",
       "      <th>19</th>\n",
       "      <td>12.369</td>\n",
       "      <td>34.288</td>\n",
       "    </tr>\n",
       "    <tr>\n",
       "      <th>20</th>\n",
       "      <td>12.944</td>\n",
       "      <td>23.894</td>\n",
       "    </tr>\n",
       "    <tr>\n",
       "      <th>21</th>\n",
       "      <td>14.233</td>\n",
       "      <td>17.960</td>\n",
       "    </tr>\n",
       "    <tr>\n",
       "      <th>22</th>\n",
       "      <td>19.710</td>\n",
       "      <td>22.058</td>\n",
       "    </tr>\n",
       "    <tr>\n",
       "      <th>23</th>\n",
       "      <td>16.004</td>\n",
       "      <td>21.157</td>\n",
       "    </tr>\n",
       "  </tbody>\n",
       "</table>\n",
       "</div>"
      ],
      "text/plain": [
       "    Congruent  Incongruent\n",
       "0      12.079       19.278\n",
       "1      16.791       18.741\n",
       "2       9.564       21.214\n",
       "3       8.630       15.687\n",
       "4      14.669       22.803\n",
       "5      12.238       20.878\n",
       "6      14.692       24.572\n",
       "7       8.987       17.394\n",
       "8       9.401       20.762\n",
       "9      14.480       26.282\n",
       "10     22.328       24.524\n",
       "11     15.298       18.644\n",
       "12     15.073       17.510\n",
       "13     16.929       20.330\n",
       "14     18.200       35.255\n",
       "15     12.130       22.158\n",
       "16     18.495       25.139\n",
       "17     10.639       20.429\n",
       "18     11.344       17.425\n",
       "19     12.369       34.288\n",
       "20     12.944       23.894\n",
       "21     14.233       17.960\n",
       "22     19.710       22.058\n",
       "23     16.004       21.157"
      ]
     },
     "execution_count": 2,
     "metadata": {},
     "output_type": "execute_result"
    }
   ],
   "source": [
    "import numpy as np\n",
    "import pandas as pd\n",
    "\n",
    "stroop_data = pd.read_csv('stroopdata.csv')\n",
    "stroop_data"
   ]
  },
  {
   "cell_type": "markdown",
   "metadata": {},
   "source": [
    "**1.我们的自变量是什么？因变量是什么？**\n",
    "> * 这个实验中的自变量是两组任务中不同的文字特征\n",
    "> * 因变量是识别并说出同等大小的列表中词语颜色名称的时间"
   ]
  },
  {
   "cell_type": "markdown",
   "metadata": {
    "deletable": true,
    "editable": true
   },
   "source": [
    "**2.此任务的适当假设集是什么？你想执行什么类型的统计测试？为你的选择提供正当理由。**  \n",
    "\n",
    "> 对于这个统计实验，我的猜想是:**在一致文字条件下，人们识别出同等大小列表中词语颜色名称的时间少于不一致文字条件的情形**；  \n",
    "> 因此，我认为这个实验的适当假设集应该表示为：    \n",
    "\n",
    "> *（用 $μ_C$表示一致文字条件组($Congruent$)的总体均值，用 $μ_I$表示非一致文字条件组($Incongruent$)的总体均值）*       \n",
    "> 零假设: $H_0:μ_C \\geq μ_I$，在一致文字条件下，人们识别出同等大小列表中词语颜色名称的时间不少于不一致文字条件的情形;      \n",
    "> 备择假设:$H_A:μ_C < μ_I$,在一致文字条件下，人们识别出同等大小列表中词语颜色名称的时间少于不一致文字条件的情形。    \n",
    "\n",
    "> 在此实验中，我们应该执行的是一个单变量的相依样本*t*检验，原因包括：\n",
    "* 可以假设该实验的总体遵循正态分布，这是*t*检验的前提；\n",
    "* 这是一个*n=24*的小样本，且无法知道总体的标准差，不适用*Z*检验；\n",
    "* 本实验中两组数据来自同样的实验者，属于相依样本；\n"
   ]
  },
  {
   "cell_type": "markdown",
   "metadata": {
    "deletable": true,
    "editable": true
   },
   "source": [
    "**3.报告关于此数据集的一些描述性统计。包含至少一个集中趋势测量和至少一个变异测量。**    \n",
    " >下面调用numpy中计算数组参数的函数，分别计算两组数据的**平均值／中位数／方差／标准差**，保留两位小数并输出"
   ]
  },
  {
   "cell_type": "code",
   "execution_count": 3,
   "metadata": {
    "collapsed": false,
    "deletable": true,
    "editable": true
   },
   "outputs": [
    {
     "name": "stdout",
     "output_type": "stream",
     "text": [
      "     type\t平均值\t中位数\t方差\t标准差\t\n",
      "一致文字条件组\t14.05\t14.36\t12.14\t 3.48\t\n",
      "非一致文字条件组\t22.02\t21.02\t22.05\t 4.70\t\n",
      "\n"
     ]
    }
   ],
   "source": [
    "mean_C = np.mean(stroop_data['Congruent'])\n",
    "medium_C = np.median(stroop_data['Congruent'])\n",
    "var_C = np.var(stroop_data['Congruent'])\n",
    "std_C = np.std(stroop_data['Congruent'])\n",
    "\n",
    "mean_I = np.mean(stroop_data['Incongruent'])\n",
    "medium_I = np.median(stroop_data['Incongruent'])\n",
    "var_I = np.var(stroop_data['Incongruent'])\n",
    "std_I = np.std(stroop_data['Incongruent'])\n",
    "\n",
    "\n",
    "print(\"     type\\t平均值\\t中位数\\t方差\\t标准差\\t\\n\\\n",
    "一致文字条件组\\t{0:.2f}\\t{1:.2f}\\t{2:.2f}\\t {3:.2f}\\t\\n\\\n",
    "非一致文字条件组\\t{4:.2f}\\t{5:.2f}\\t{6:.2f}\\t {7:.2f}\\t\\n\" \n",
    "      .format(mean_C,medium_C,var_C,std_C,mean_I,medium_I,var_I,std_I))\n"
   ]
  },
  {
   "cell_type": "markdown",
   "metadata": {
    "deletable": true,
    "editable": true
   },
   "source": [
    "**4.提供显示样本数据分布的一个或两个可视化。用一两句话说明你从图中观察到的结果。**    \n",
    ">下方会依次通过绘制箱形图和散点图的方式描述数据的特征。"
   ]
  },
  {
   "cell_type": "code",
   "execution_count": 78,
   "metadata": {
    "collapsed": false,
    "deletable": true,
    "editable": true
   },
   "outputs": [
    {
     "data": {
      "image/png": "[encoded data removed]",
      "text/plain": [
       "<matplotlib.figure.Figure at 0x11aa01950>"
      ]
     },
     "metadata": {},
     "output_type": "display_data"
    }
   ],
   "source": [
    "from matplotlib import pyplot\n",
    "\n",
    "#绘制箱形图\n",
    "pyplot.boxplot([stroop_data['Congruent'],stroop_data['Incongruent']],labels=['Congruent','Incongruent'])\n",
    "pyplot.show()"
   ]
  },
  {
   "cell_type": "markdown",
   "metadata": {
    "deletable": true,
    "editable": true
   },
   "source": [
    "两幅图分别为一致文字条件组和非一致文字条件组的箱形图；\n",
    "* 一致文字条件组的总体均值比非一致文字条件组小得多；\n",
    "* 两组数据的四分位差比较接近，发散程度差不多；\n",
    "* 非一致文字条件组出现了两个高于上界线的异常值，一致文字条件组没有出现异常值。"
   ]
  },
  {
   "cell_type": "code",
   "execution_count": 91,
   "metadata": {
    "collapsed": false,
    "deletable": true,
    "editable": true
   },
   "outputs": [
    {
     "data": {
      "image/png": "[encoded data removed]",
      "text/plain": [
       "<matplotlib.figure.Figure at 0x11a2fcd50>"
      ]
     },
     "metadata": {},
     "output_type": "display_data"
    }
   ],
   "source": [
    "#绘制折线图\n",
    "x = range(stroop_data['Congruent'].count())\n",
    "y1 = stroop_data['Congruent']\n",
    "y2 = stroop_data['Incongruent']\n",
    "\n",
    "pyplot.scatter(x, y1, label='Congruent')\n",
    "pyplot.scatter(x, y2, label='Incongruent')\n",
    "pyplot.ylabel('Time (sec)')\n",
    "pyplot.legend(loc = 'upper left')\n",
    "pyplot.show()"
   ]
  },
  {
   "cell_type": "markdown",
   "metadata": {
    "deletable": true,
    "editable": true
   },
   "source": [
    "上述的散点图完整地展示了一致文字条件组和非一致文字条件组的每一次结果；\n",
    "* 对每一个参与者者来说，虽然各自的时间差不同，但所有参与者在非一致文字条件组都要花费更多的时间；\n",
    "* 整体来看，非一致文字条件组的散点分布上在一致文字条件组的上方；这也与最初的猜想一致。\n"
   ]
  },
  {
   "cell_type": "markdown",
   "metadata": {
    "deletable": true,
    "editable": true
   },
   "source": [
    "**5.现在，执行统计测试并报告你的结果。你的置信水平和关键统计值是多少？你是否成功拒绝零假设？对试验任务得出一个结论。结果是否与你的期望一致？**      "
   ]
  },
  {
   "cell_type": "code",
   "execution_count": 89,
   "metadata": {
    "collapsed": false,
    "deletable": true,
    "editable": true
   },
   "outputs": [
    {
     "name": "stdout",
     "output_type": "stream",
     "text": [
      "      df\t mean_diff\t Std_dev\t t-value\t\n",
      "      23\t   -7.965\t   4.865\t  -8.021\t\n",
      "\n"
     ]
    }
   ],
   "source": [
    "#计算自由度 df\n",
    "n = stroop_data['Incongruent'].count()\n",
    "df = n-1\n",
    "#计算标准差 standard deviation = sqrt(Σ(xi - x_bar)**2/df)\n",
    "stroop_data['diff'] = stroop_data['Congruent'] - stroop_data['Incongruent']\n",
    "mean_diff = np.mean(stroop_data['diff'])\n",
    "stroop_data['diff_dev_square'] = (stroop_data['diff'] - mean_diff)**2\n",
    "std_dev = np.sqrt(np.sum(stroop_data['diff_dev_square'])/df)\n",
    "#计算t值 t-value = (x_bar - μ0)/(s/sqrt(n))\n",
    "t_value = (mean_diff - 0)/(std_dev/np.sqrt(n))\n",
    "#输出几个关键的统计量\n",
    "print(\"      df\\t mean_diff\\t Std_dev\\t t-value\\t\\n\\\n",
    "      {0:d}\\t   {1:.3f}\\t   {2:.3f}\\t  {3:.3f}\\t\\n\"\n",
    "      .format(df,mean_diff,std_dev,t_value))"
   ]
  },
  {
   "cell_type": "markdown",
   "metadata": {
    "deletable": true,
    "editable": true
   },
   "source": [
    "通过查表可以发现 对于df = 23 的 t检验：\n",
    "* 在 $\\alpha = 0.05$ 水平下，t临界值为 -2.069；\n",
    "* 在 $\\alpha = 0.01$ 水平下，t临界值为 -2.807；\n",
    "* 在 $\\alpha = 0.001$ 水平下，t临界值为 -3.768；   \n",
    "\n",
    "而计算的 $t(value) = -8.021$,小于任何置信水平下的t临界值。    \n",
    "**也就是说，在上述三个置信水平下，我们都能够成功拒绝零假设。**      \n",
    "因此可以说：在一致文字条件下，人们识别出同等大小列表中词语颜色名称的时间少于不一致文字条件的情形，这也与我们最初的猜想是一致的。"
   ]
  },
  {
   "cell_type": "code",
   "execution_count": 86,
   "metadata": {
    "collapsed": false,
    "deletable": true,
    "editable": true
   },
   "outputs": [
    {
     "data": {
      "text/plain": [
       "Ttest_relResult(statistic=-8.020706944109957, pvalue=4.1030005857111781e-08)"
      ]
     },
     "execution_count": 86,
     "metadata": {},
     "output_type": "execute_result"
    }
   ],
   "source": [
    "from scipy import stats\n",
    "stats.ttest_rel(stroop_data['Congruent'],stroop_data['Incongruent'])"
   ]
  },
  {
   "cell_type": "markdown",
   "metadata": {
    "deletable": true,
    "editable": true
   },
   "source": [
    "我们也可以通过直接调用 scipy 中 *t-test* 的函数进行*t*检验，发现 *p-value* 是一个非常小的值，得到的结论是相同的。"
   ]
  },
  {
   "cell_type": "code",
   "execution_count": 87,
   "metadata": {
    "collapsed": false,
    "deletable": true,
    "editable": true
   },
   "outputs": [
    {
     "name": "stdout",
     "output_type": "stream",
     "text": [
      "cohen's d: -1.637\n"
     ]
    }
   ],
   "source": [
    "cohens_d = mean_diff/std_dev\n",
    "print(\"cohen's d: {0:.3f}\".format(cohens_d))"
   ]
  },
  {
   "cell_type": "markdown",
   "metadata": {
    "deletable": true,
    "editable": true
   },
   "source": [
    "为了了解 *Effect Size*，额外计算 *cohen's d* 的值，$cohen's\\ d = -1.637$"
   ]
  },
  {
   "cell_type": "markdown",
   "metadata": {
    "deletable": true,
    "editable": true
   },
   "source": [
    "**6.可选：你觉得导致所观察到的效应的原因是什么？你是否能想到会取得类似效应的替代或类似任务？进行一些调查研究将有助于你思考这两个问题！**\n",
    "导致_Stroop Effect_的可能原因是大脑在认知过程中遇到了矛盾，因而受到了干扰，导致认知速度变慢。\n",
    "任何导致此类认知矛盾的实验都可能产生这一效应，比如箭头方向向左，上面写的词确是“右”，可能也会导致认知速度的下降。"
   ]
  }
 ],
 "metadata": {
  "kernelspec": {
   "display_name": "Python 2",
   "language": "python",
   "name": "python2"
  },
  "language_info": {
   "codemirror_mode": {
    "name": "ipython",
    "version": 2
   },
   "file_extension": ".py",
   "mimetype": "text/x-python",
   "name": "python",
   "nbconvert_exporter": "python",
   "pygments_lexer": "ipython2",
   "version": "2.7.13"
  }
 },
 "nbformat": 4,
 "nbformat_minor": 2
}
